{
 "cells": [
  {
   "cell_type": "code",
   "execution_count": null,
   "id": "8368d1c7",
   "metadata": {},
   "outputs": [],
   "source": [
    "import pandas as pd\n",
    "from sklearn.model_selection import train_test_split\n",
    "from sklearn.tree import DecisionTreeClassifier\n",
    "from sklearn.tree import export_graphviz\n",
    "from six import StringIO\n",
    "from IPython.display import Image\n",
    "import pydotplus\n",
    "import graphviz"
   ]
  },
  {
   "cell_type": "code",
   "execution_count": null,
   "id": "2e865ae4",
   "metadata": {},
   "outputs": [],
   "source": [
    "data_frame = pd.read_csv('preped-data.csv')"
   ]
  },
  {
   "cell_type": "code",
   "execution_count": null,
   "id": "42f2b2e3",
   "metadata": {},
   "outputs": [],
   "source": [
    "data_frame"
   ]
  },
  {
   "cell_type": "code",
   "execution_count": null,
   "id": "527a6aad",
   "metadata": {},
   "outputs": [],
   "source": [
    "category_to_number = {\n",
    "    \"Region\": {\n",
    "        \"Addis Ababa\":1, \"Afar\":2, \"Amhara\":3, \"Dire Dawa\":4, \"Gambela\":5, \n",
    "        \"Gumz\":6, \"Harari\":7, \"Oromia\":8, \n",
    "        \"SNNP\":9, \"Somali\":10, \"Tigray\":11\n",
    "    },\n",
    "    \"Gender_of _Victims\": {\n",
    "        \"Male\":1, \"Female\":0\n",
    "    },\n",
    "    \"Driver_Edu_Level\": {\n",
    "        \"able_read_write\":1, \"Basic_education\":2, \"1_8\":3,\n",
    "        \"9_10\":4, \"11_12\":5, \"above_12\":6,\n",
    "    },\n",
    "    \"Driver_Experience\": {\n",
    "        \"without_license\":1, \"less_than_1year\":2, \"1_2years\":3, \n",
    "        \"2_5years\":4, \"5_10years\":5, \"above_10years\":6\n",
    "    },\n",
    "    \"Cars_Service_Years\": {\n",
    "        \"less_than_1year\":1, \"1_2years\":2, \"2_5years\":3,\n",
    "        \"5_10years\":4, \"above_10years\":5 \n",
    "    },\n",
    "    \"Vehicle_Types\": {\n",
    "        \"Taxi\":1, \"Minibus up to 12 seats\":2, \"Automobile\":3,\n",
    "        \"Pickup upto 10 Qtl\":4, \"Buss from 13_45 seats\":5, \"Trucks Capacity from 11_40 Qtl\":6,\n",
    "        \"Trucks Capacity from 41_100 Qtl\":7, \"Motor Bicycle\":8, \"Station Wagon\":9,\n",
    "        \"Trailer Trucks\":10, \"Vacuum Truck\":11, \"Buss above 46 capacity\":12,\n",
    "        \"Bicycle\":13, \"Others\":14, \"Special mobile equipment\":15,\n",
    "        \"Horse Cart\":16, \"Special mobile Equipment with trailer\":17, \"Train\":18\n",
    "    },\n",
    "    \"Vehicles _Owner\": {\n",
    "        \"Private\":1, \"Governmental\":2, \"Public Service\":3, \n",
    "        \"Police\":4, \"Defence\":5, \"International\":6, \n",
    "        \"Others\":7\n",
    "    },\n",
    "    \"Places_of_Accident_ Occurred\": {\n",
    "        \"Rural Area\":1, \"Around Market\":2, \"Close to Work Place\":3, \n",
    "        \"Out of Rural Area\":4, \"Residential Area\":5, \"Recreation\":6, \n",
    "        \"Around School\":7, \"Religious Place\":8, \"Near Factory\":9, \n",
    "        \"Near to Hospital\":10\n",
    "    },\n",
    "    \"Road_Type\": {\n",
    "        \"One Way\":1, \"Two Way\":2, \"Divided by a Median Strip\":3\n",
    "    },\n",
    "    \"Placement_of_ the _Road\": {\n",
    "        \"Straight and Flat Surface\":1, \"Straight and  slightly slopinng\":2, \"Slightly curve\":3,\n",
    "        \"Straight and up and down\":4, \"Straight and Very slopinng\":5, \"very curve\":6,\n",
    "        \"uphill\":7, \"downhill\":8\n",
    "    },\n",
    "    \"RoadConn\": {\n",
    "        \"None Intersection\":1, \"Roundabout\":2, \"T Intersection\":3,\n",
    "        \"Y Intersection\":4, \"Crossroads\":5\n",
    "    },\n",
    "    \"RoadSurfaceType\": {\n",
    "        \"Good Asphalt\":1, \"Craked Asphalt\":2, \"Gravel\":3\n",
    "    },\n",
    "    \"RoadChar\": {\n",
    "        \"Dry\":1, \"Wet\":2, \"Muddy\":3\n",
    "    },\n",
    "    \"WeatherCond\": {\n",
    "        \"Good Weather\":1, \"Cloudy\":2, \"Drizzle\":3,\n",
    "        \"Foggy\":4, \"Raining\":5, \"Windy\":6,\n",
    "        \"Hot\":7, \"Dusty\":8, \"Cold\":9\n",
    "    },\n",
    "    \"vehicledefects\": {\n",
    "        \"No Defect\":1, \"Other Mechanical\":2, \"Brake\":3,\n",
    "        \"Steering Wheel\":4, \"Light System\":5, \"Tyre\":6\n",
    "    }\n",
    "}"
   ]
  },
  {
   "cell_type": "code",
   "execution_count": null,
   "id": "87ff0049",
   "metadata": {},
   "outputs": [],
   "source": [
    "data_frame = data_frame.replace(category_to_number)"
   ]
  },
  {
   "cell_type": "code",
   "execution_count": null,
   "id": "5954e0d4",
   "metadata": {},
   "outputs": [],
   "source": [
    "data_frame"
   ]
  },
  {
   "cell_type": "code",
   "execution_count": null,
   "id": "6dc535dd",
   "metadata": {},
   "outputs": [],
   "source": [
    "inputs=['Region', 'Gender_of _Victims', 'Driver_Edu_Level', 'Driver_Experience',\n",
    "    'Cars_Service_Years', 'Vehicle_Types', 'Vehicles _Owner', 'Places_of_Accident_ Occurred', 'Road_Type', \n",
    "    'Placement_of_ the _Road', 'RoadConn', 'RoadSurfaceType', 'RoadChar', \n",
    "    'WeatherCond', 'vehicledefects']\n",
    "classes=['Fatal', 'Serious Injury', 'Slight Injury']\n",
    "get_inputs = data_frame[xc]\n",
    "get_classes = data_frame['AccSeverity']"
   ]
  },
  {
   "cell_type": "code",
   "execution_count": null,
   "id": "106676b4",
   "metadata": {},
   "outputs": [],
   "source": [
    "(x_train, x_test, y_train, y_test)= train_test_split(get_inputs, get_classes, train_size=0.7, random_state=1)"
   ]
  },
  {
   "cell_type": "code",
   "execution_count": null,
   "id": "5c9269ed",
   "metadata": {},
   "outputs": [],
   "source": [
    "classifier=DecisionTreeClassifier(random_state=0)"
   ]
  },
  {
   "cell_type": "code",
   "execution_count": null,
   "id": "925cd717",
   "metadata": {},
   "outputs": [],
   "source": [
    "classifier.fit(x_train, y_train)"
   ]
  },
  {
   "cell_type": "code",
   "execution_count": null,
   "id": "bf39c084",
   "metadata": {},
   "outputs": [],
   "source": [
    "accuracy = classifier.score(x_test, y_test)\n",
    "print(accuracy)"
   ]
  },
  {
   "cell_type": "code",
   "execution_count": null,
   "id": "3cadc23b",
   "metadata": {},
   "outputs": [],
   "source": [
    "dot_data = StringIO()\n",
    "export_graphviz(classifier, out_file=dot_data, filled=True, rounded=True, special_characters=True, feature_names = xc, class_names=classes)\n",
    "graph = pydotplus.graph_from_dot_data(dot_data.getvalue())\n",
    "graph.write_png('Tree.png')\n",
    "Image(graph.create_png())"
   ]
  }
 ],
 "metadata": {
  "kernelspec": {
   "display_name": "Python 3 (ipykernel)",
   "language": "python",
   "name": "python3"
  },
  "language_info": {
   "codemirror_mode": {
    "name": "ipython",
    "version": 3
   },
   "file_extension": ".py",
   "mimetype": "text/x-python",
   "name": "python",
   "nbconvert_exporter": "python",
   "pygments_lexer": "ipython3",
   "version": "3.10.8"
  }
 },
 "nbformat": 4,
 "nbformat_minor": 5
}
